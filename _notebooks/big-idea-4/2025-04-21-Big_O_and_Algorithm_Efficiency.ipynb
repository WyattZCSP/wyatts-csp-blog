{
 "cells": [
  {
   "cell_type": "markdown",
   "id": "bb8a6ec1",
   "metadata": {},
   "source": [
    "---\n",
    "layout: post\n",
    "title: Big O and Algorithm Efficiency\n",
    "---"
   ]
  },
  {
   "cell_type": "markdown",
   "id": "6550e9c5",
   "metadata": {},
   "source": [
    "# **Big O and Algorithm Efficiency**\n",
    "_None_  \n",
    "**Apr 11, 2025 • 2 min read**"
   ]
  },
  {
   "cell_type": "markdown",
   "id": "206f50fb",
   "metadata": {},
   "source": [
    "## **Collaboration**"
   ]
  },
  {
   "cell_type": "markdown",
   "id": "635d496e",
   "metadata": {},
   "source": [
    "## **Big O Notation**\n",
    "\n",
    "### **Introduction**\n",
    "Big O notation is used to describe the efficiency of algorithms in terms of **time complexity** and **space complexity**. It helps us understand how an algorithm scales as the input size increases."
   ]
  },
  {
   "cell_type": "markdown",
   "id": "5254c708",
   "metadata": {},
   "source": [
    "### **Common Big O Complexities**\n",
    "\n",
    "| Notation   | Complexity Class   | Description                                                               |\n",
    "|------------|--------------------|---------------------------------------------------------------------------|\n",
    "| O(1)       | Constant Time       | Execution time is the same regardless of input size.                      |\n",
    "| O(log n)   | Logarithmic Time    | Execution time increases logarithmically with input size.                |\n",
    "| O(n)       | Linear Time         | Execution time grows proportionally to input size.                        |\n",
    "| O(n log n) | Linearithmic Time   | Common in efficient sorting algorithms like Merge Sort and Quick Sort.   |\n",
    "| O(n²)      | Quadratic Time      | Execution time grows quadratically with input size.                       |\n",
    "| O(2ⁿ)      | Exponential Time    | Execution time doubles with each additional element.                      |\n",
    "| O(n!)      | Factorial Time      | Execution time grows factorially — very inefficient for large inputs.     |"
   ]
  },
  {
   "cell_type": "markdown",
   "id": "92a05213",
   "metadata": {},
   "source": [
    "### **Examples**\n",
    "\n",
    "#### **O(1) - Constant Time**"
   ]
  },
  {
   "cell_type": "code",
   "execution_count": 8,
   "id": "cfc2e3f1",
   "metadata": {},
   "outputs": [
    {
     "name": "stdout",
     "output_type": "stream",
     "text": [
      "3\n"
     ]
    }
   ],
   "source": [
    "arr = [1, 2, 3, 4, 5]\n",
    "print(arr[2])  # Accessing an element by index takes constant time."
   ]
  },
  {
   "cell_type": "markdown",
   "id": "26fa05c2",
   "metadata": {},
   "source": [
    "#### **O(n) - Linear Time**"
   ]
  },
  {
   "cell_type": "code",
   "execution_count": 7,
   "id": "403b77d8",
   "metadata": {},
   "outputs": [
    {
     "name": "stdout",
     "output_type": "stream",
     "text": [
      "1\n",
      "2\n",
      "3\n",
      "4\n",
      "5\n"
     ]
    }
   ],
   "source": [
    "arr = [1, 2, 3, 4, 5]\n",
    "for num in arr:\n",
    "    print(num)  # Time grows with the array size."
   ]
  },
  {
   "cell_type": "markdown",
   "id": "f01c5d55",
   "metadata": {},
   "source": [
    "### **Popcorn Hack #1**\n",
    "\n",
    "**Given:**\n",
    "```python\n",
    "arr = [1, 2, 3, 4, 5]\n",
    "```\n",
    "\n",
    "- Print the third item using constant time:\n"
   ]
  },
  {
   "cell_type": "code",
   "execution_count": 6,
   "id": "72abf5f0",
   "metadata": {},
   "outputs": [
    {
     "name": "stdout",
     "output_type": "stream",
     "text": [
      "3\n"
     ]
    }
   ],
   "source": [
    "print(arr[2])  # O(1)"
   ]
  },
  {
   "cell_type": "markdown",
   "id": "8ee08a2d",
   "metadata": {},
   "source": [
    "- Print all the items using linear time:"
   ]
  },
  {
   "cell_type": "code",
   "execution_count": 5,
   "id": "0c48463f",
   "metadata": {},
   "outputs": [
    {
     "name": "stdout",
     "output_type": "stream",
     "text": [
      "1\n",
      "2\n",
      "3\n"
     ]
    }
   ],
   "source": [
    "for num in arr:\n",
    "    print(num)  # O(n)"
   ]
  },
  {
   "cell_type": "markdown",
   "id": "6caf8ba3",
   "metadata": {},
   "source": [
    "#### **O(n²) - Quadratic Time**"
   ]
  },
  {
   "cell_type": "code",
   "execution_count": 4,
   "id": "516e4418",
   "metadata": {},
   "outputs": [
    {
     "name": "stdout",
     "output_type": "stream",
     "text": [
      "1 1\n",
      "1 2\n",
      "1 3\n",
      "2 1\n",
      "2 2\n",
      "2 3\n",
      "3 1\n",
      "3 2\n",
      "3 3\n"
     ]
    }
   ],
   "source": [
    "arr = [1, 2, 3]\n",
    "for i in arr:\n",
    "    for j in arr:\n",
    "        print(i, j)  # Nested loop: O(n²)"
   ]
  },
  {
   "cell_type": "markdown",
   "id": "8793b1b9",
   "metadata": {},
   "source": [
    "### **Popcorn Hack #2**\n",
    "\n",
    "**Task:** Print all unique pairs from `[1, 2, 3]`\n"
   ]
  },
  {
   "cell_type": "code",
   "execution_count": 3,
   "id": "0b373af2",
   "metadata": {},
   "outputs": [
    {
     "name": "stdout",
     "output_type": "stream",
     "text": [
      "(1, 2)\n",
      "(1, 3)\n",
      "(2, 3)\n"
     ]
    }
   ],
   "source": [
    "def print_unique_pairs(arr):\n",
    "    for i in range(len(arr)):\n",
    "        for j in range(i + 1, len(arr)):\n",
    "            print(f\"({arr[i]}, {arr[j]})\")\n",
    "\n",
    "arr = [1, 2, 3]\n",
    "print_unique_pairs(arr)"
   ]
  },
  {
   "cell_type": "markdown",
   "id": "719b67b1",
   "metadata": {},
   "source": [
    "**Time Complexity:**  \n",
    "`O(n²)` — because for each element, you're iterating through the rest of the list using a nested loop."
   ]
  },
  {
   "cell_type": "markdown",
   "id": "1b28c72d",
   "metadata": {},
   "source": [
    "#### **O(log n) - Logarithmic Time**"
   ]
  },
  {
   "cell_type": "code",
   "execution_count": 2,
   "id": "84149a2f",
   "metadata": {},
   "outputs": [],
   "source": [
    "def binary_search(arr, target):\n",
    "    left, right = 0, len(arr) - 1\n",
    "    while left <= right:\n",
    "        mid = (left + right) // 2\n",
    "        if arr[mid] == target:\n",
    "            return mid\n",
    "        elif arr[mid] < target:\n",
    "            left = mid + 1\n",
    "        else:\n",
    "            right = mid - 1\n",
    "    return -1"
   ]
  },
  {
   "cell_type": "markdown",
   "id": "d0ebccd0",
   "metadata": {},
   "source": [
    "### **Popcorn Hack #3**\n",
    "\n",
    "**Q1:** Which of these is inefficient for large inputs?\n",
    "\n",
    "- a) Linear Time  \n",
    "- **b) Factorial Time ✅**  \n",
    "- c) Constant Time  \n",
    "- d) Linearithmic Time  \n",
    "\n",
    "**Q2:** Which of these can be represented by a nested loop?\n",
    "\n",
    "- a) Logarithmic Time  \n",
    "- b) Linearithmic Time  \n",
    "- **c) Quadratic Time ✅**  \n",
    "- d) Linear Time"
   ]
  },
  {
   "cell_type": "markdown",
   "id": "426187ad",
   "metadata": {},
   "source": [
    "## **Homework Hack**\n",
    "\n",
    "**Function that acts based on complexity:**"
   ]
  },
  {
   "cell_type": "code",
   "execution_count": 1,
   "id": "1925de5c",
   "metadata": {},
   "outputs": [
    {
     "name": "stdout",
     "output_type": "stream",
     "text": [
      "5\n",
      "10\n",
      "15\n",
      "20\n",
      "25\n"
     ]
    }
   ],
   "source": [
    "def perform_operation(arr, complexity):\n",
    "    if complexity == \"constant\":\n",
    "        return arr[0]\n",
    "    elif complexity == \"linear\":\n",
    "        for item in arr:\n",
    "            print(item)\n",
    "    elif complexity == \"quadratic\":\n",
    "        for i in arr:\n",
    "            for j in arr:\n",
    "                print(i, j)\n",
    "    else:\n",
    "        return \"Unsupported complexity\"\n",
    "\n",
    "# Example usage:\n",
    "arr = [5, 10, 15, 20, 25]\n",
    "perform_operation(arr, \"linear\")"
   ]
  }
 ],
 "metadata": {
  "kernelspec": {
   "display_name": "Python 3",
   "language": "python",
   "name": "python3"
  },
  "language_info": {
   "codemirror_mode": {
    "name": "ipython",
    "version": 3
   },
   "file_extension": ".py",
   "mimetype": "text/x-python",
   "name": "python",
   "nbconvert_exporter": "python",
   "pygments_lexer": "ipython3",
   "version": "3.11.9"
  }
 },
 "nbformat": 4,
 "nbformat_minor": 5
}
