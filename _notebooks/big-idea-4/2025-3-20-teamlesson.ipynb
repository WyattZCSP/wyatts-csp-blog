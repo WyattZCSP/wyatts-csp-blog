{
 "cells": [
  {
   "cell_type": "markdown",
   "metadata": {},
   "source": [
    "---\n",
    "layout: post  \n",
    "title: Homework Blog\n",
    "description: Blog for all homeworks\n",
    "type: issues  \n",
    "comments: true  \n",
    "---"
   ]
  },
  {
   "cell_type": "markdown",
   "metadata": {},
   "source": [
    "\n",
    "# 5.1 Harmful and Beneficial side of tech\n",
    "\n",
    "## Popcorn Hack 1: Technology can be beneficial for doctors and work in medical spaces because it can more accurately measure proportions, clock in hours, and measure whether or not patients are well. technology can be dangerous because it makes bullying/cyberbullying, threats, and reliance on technology more common. \n",
    "\n",
    "## Popcorn Hack 2: Cyber attacks are getting increasingly more common, we can avoid these by not sharing information on the internet, staying less connected, and making sure we don't rely on technology.\n",
    "\n",
    "## Popcorn Hack 3\n",
    "\n",
    "I think it's important to understand the unintended consequences of technology because it can lead to harmful effects for millions of people's daily lives, changing the way we live overall. I think it's important to know the risks of social media platforms like Instagram and TikTok. Although they can be good, it's important to limit the time spent on these platforms and how much we rely on these platforms daily. \n",
    "\n",
    "## Homework Hack 1\n",
    "\n",
    "AI Innovation: Facial Recognition  \n",
    "\n",
    "Original Use: Initially designed for security and identification purposes, such as unlocking phones, verifying identities at airports, and enhancing surveillance.  \n",
    "\n",
    "New Use Case: Using facial recognition in wildlife conservation to identify and track individual animals, such as endangered species, for research and anti-poaching efforts.  \n",
    "\n",
    "Impact:  \n",
    "✅ Benefits:  \n",
    "- Helps researchers monitor wildlife populations and study animal behavior more efficiently.  \n",
    "- Assists in preventing poaching by identifying and tracking endangered animals in real time.  \n",
    "\n",
    "⚠️ Risks: \n",
    "- Privacy concerns if the technology is misused for tracking people instead of animals.  \n",
    "- High costs and technological challenges in adapting facial recognition to non-human subjects."
   ]
  },
  {
   "cell_type": "markdown",
   "metadata": {},
   "source": []
  }
 ],
 "metadata": {
  "language_info": {
   "name": "python"
  }
 },
 "nbformat": 4,
 "nbformat_minor": 2
}
