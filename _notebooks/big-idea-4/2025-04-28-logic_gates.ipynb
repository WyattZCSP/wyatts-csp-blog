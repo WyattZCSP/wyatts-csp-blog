{
 "cells": [
  {
   "cell_type": "markdown",
   "id": "a7cf047c",
   "metadata": {},
   "source": [
    "---\n",
    "layout: post  \n",
    "title: Binary Homework Blog\n",
    "description: Blog for Binary Hw\n",
    "type: issues  \n",
    "comments: true  \n",
    "---"
   ]
  },
  {
   "cell_type": "markdown",
   "id": "cc3979f9",
   "metadata": {},
   "source": []
  }
 ],
 "metadata": {
  "language_info": {
   "name": "python"
  }
 },
 "nbformat": 4,
 "nbformat_minor": 5
}
