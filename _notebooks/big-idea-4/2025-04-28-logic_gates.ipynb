{
 "cells": [
  {
   "cell_type": "markdown",
   "id": "a7cf047c",
   "metadata": {},
   "source": [
    "---\n",
    "layout: post  \n",
    "title: Logic Gates Homework Blog\n",
    "description: Blog for logic gates Hw\n",
    "type: issues  \n",
    "comments: true  \n",
    "---"
   ]
  },
  {
   "cell_type": "markdown",
   "id": "cf077323",
   "metadata": {},
   "source": [
    "Popcorn Hack 1:\n",
    "\n",
    "Logic gates are essential for implementing a wide range of real-world systems by enabling decision-making and data processing. For example, in computers, logic gates form the basis of the central processing unit (CPU), allowing the execution of instructions and performing complex calculations quickly and efficiently. In memory storage, gates like flip-flops are used in devices such as RAM and ROM, ensuring that data is stored and retrieved accurately, which is crucial for multitasking and data management. Control systems in automation (like in factories or smart homes) use logic gates to make decisions based on sensor input, improving operational efficiency and reducing the need for manual intervention. In communication systems, logic gates help with error detection and correction, ensuring that transmitted data remains intact, which is vital for secure and reliable information exchange. Lastly, AI and robotics rely on logic gates to process inputs and make real-time decisions, which is key for autonomous vehicles and advanced robotics, enabling machines to behave intelligently in dynamic environments."
   ]
  },
  {
   "cell_type": "markdown",
   "id": "8592b232",
   "metadata": {},
   "source": [
    "Popcorn hack 2: \n",
    "\n",
    "The correct expression is:\n",
    "A. (X AND Y) OR Z"
   ]
  },
  {
   "cell_type": "code",
   "execution_count": 1,
   "id": "b6e0986f",
   "metadata": {},
   "outputs": [
    {
     "name": "stdout",
     "output_type": "stream",
     "text": [
      "1\n",
      "0\n",
      "0\n",
      "0\n"
     ]
    }
   ],
   "source": [
    "def secure_entry_system(keycard, pin, voice_auth):\n",
    "    def AND(a, b):\n",
    "        return a & b  # AND logic\n",
    "\n",
    "    # Combine all three factors (keycard, pin, and voice authorization)\n",
    "    return AND(AND(keycard, pin), voice_auth)\n",
    "\n",
    "# Test cases\n",
    "print(secure_entry_system(1, 1, 1))  # Expected Output: 1 (Access Granted)\n",
    "print(secure_entry_system(1, 0, 1))  # Expected Output: 0 (Access Denied)\n",
    "print(secure_entry_system(1, 1, 0))  # Expected Output: 0 (Access Denied)\n",
    "print(secure_entry_system(0, 1, 1))  # Expected Output: 0 (Access Denied)"
   ]
  }
 ],
 "metadata": {
  "kernelspec": {
   "display_name": "Python 3",
   "language": "python",
   "name": "python3"
  },
  "language_info": {
   "codemirror_mode": {
    "name": "ipython",
    "version": 3
   },
   "file_extension": ".py",
   "mimetype": "text/x-python",
   "name": "python",
   "nbconvert_exporter": "python",
   "pygments_lexer": "ipython3",
   "version": "3.11.9"
  }
 },
 "nbformat": 4,
 "nbformat_minor": 5
}
